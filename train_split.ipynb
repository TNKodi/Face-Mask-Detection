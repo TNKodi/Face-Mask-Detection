{
 "cells": [
  {
   "cell_type": "markdown",
   "id": "4ceaca0a",
   "metadata": {},
   "source": [
    "## Import and path Definitions\n"
   ]
  },
  {
   "cell_type": "code",
   "execution_count": 17,
   "id": "9d89455a",
   "metadata": {},
   "outputs": [],
   "source": [
    "import os\n",
    "import glob\n",
    "import random\n",
    "import shutil\n",
    "\n",
    "img_path = 'images'\n",
    "ann_path = 'annotations'\n",
    "output_path = 'dataset'\n",
    "\n"
   ]
  },
  {
   "cell_type": "markdown",
   "id": "c0cb51ba",
   "metadata": {},
   "source": [
    "### Create Train/Val/Test Folder Structure"
   ]
  },
  {
   "cell_type": "code",
   "execution_count": 18,
   "id": "7979716a",
   "metadata": {},
   "outputs": [
    {
     "name": "stdout",
     "output_type": "stream",
     "text": [
      "Folder structure created successfully.\n"
     ]
    }
   ],
   "source": [
    "for split in ['train', 'val', 'test']:\n",
    "    os.makedirs(os.path.join(output_path, split, 'images'), exist_ok=True)\n",
    "    os.makedirs(os.path.join(output_path, split, 'annotations'), exist_ok=True)\n",
    "\n",
    "print(\"Folder structure created successfully.\")"
   ]
  },
  {
   "cell_type": "markdown",
   "id": "519697e0",
   "metadata": {},
   "source": [
    "### Step 3: List & Shuffle Annotation Files"
   ]
  },
  {
   "cell_type": "code",
   "execution_count": 19,
   "id": "68166287",
   "metadata": {},
   "outputs": [
    {
     "name": "stdout",
     "output_type": "stream",
     "text": [
      "Total annotation files: 853\n"
     ]
    }
   ],
   "source": [
    "ann_files = glob.glob(os.path.join(ann_path, '*.xml'))\n",
    "random.seed(42)  # For reproducibility\n",
    "random.shuffle(ann_files)\n",
    "\n",
    "num_files = len(ann_files)\n",
    "print(f\"Total annotation files: {num_files}\")"
   ]
  },
  {
   "cell_type": "markdown",
   "id": "edb5e0c8",
   "metadata": {},
   "source": [
    "### Step 4: Compute Split Indices"
   ]
  },
  {
   "cell_type": "code",
   "execution_count": 20,
   "id": "eb86094c",
   "metadata": {},
   "outputs": [
    {
     "name": "stdout",
     "output_type": "stream",
     "text": [
      "Train files: 597, Val files: 127, Test files: 129\n"
     ]
    }
   ],
   "source": [
    "train_ratio = 0.7\n",
    "val_ratio = 0.15\n",
    "test_ratio = 0.15\n",
    "\n",
    "n_train=(int(num_files * train_ratio))\n",
    "n_val=int(num_files * val_ratio)\n",
    "\n",
    "train_files = ann_files[:n_train]\n",
    "val_files = ann_files[n_train:n_train + n_val]\n",
    "test_files = ann_files[n_train + n_val:]\n",
    "\n",
    "print(f\"Train files: {len(train_files)}, Val files: {len(val_files)}, Test files: {len(test_files)}\")"
   ]
  },
  {
   "cell_type": "code",
   "execution_count": 21,
   "id": "853f7b91",
   "metadata": {},
   "outputs": [],
   "source": [
    "def copypath(ann_list,split_list):\n",
    "    for ann_file in ann_list:\n",
    "        fname=os.path.splitext(os.path.basename(ann_file))[0]\n",
    "        img_file = os.path.join(img_path, fname + '.png')\n",
    "\n",
    "        shutil.copy2(ann_file,os.path.join(output_path, split_list, 'annotations'))\n",
    "        shutil.copy2(img_file, os.path.join(output_path, split_list, 'images'))"
   ]
  },
  {
   "cell_type": "code",
   "execution_count": 22,
   "id": "6d472d2d",
   "metadata": {},
   "outputs": [
    {
     "name": "stdout",
     "output_type": "stream",
     "text": [
      "Train - Images: 597, Annotations: 597\n",
      "Val - Images: 127, Annotations: 127\n",
      "Test - Images: 129, Annotations: 129\n"
     ]
    }
   ],
   "source": [
    "copypath(train_files, 'train')\n",
    "copypath(val_files, 'val')\n",
    "copypath(test_files, 'test')\n",
    "\n",
    "for split in ['train', 'val', 'test']:\n",
    "    n_images = len(os.listdir(os.path.join(output_path, split, 'images')))\n",
    "    n_annotations = len(os.listdir(os.path.join(output_path, split, 'annotations')))\n",
    "    print(f\"{split.capitalize()} - Images: {n_images}, Annotations: {n_annotations}\")"
   ]
  },
  {
   "cell_type": "code",
   "execution_count": null,
   "id": "ce5a3640",
   "metadata": {},
   "outputs": [
    {
     "name": "stdout",
     "output_type": "stream",
     "text": [
      "['dataset\\\\train\\\\images\\\\maksssksksss1.png', 'dataset\\\\train\\\\images\\\\maksssksksss10.png', 'dataset\\\\train\\\\images\\\\maksssksksss101.png', 'dataset\\\\train\\\\images\\\\maksssksksss102.png', 'dataset\\\\train\\\\images\\\\maksssksksss105.png']\n",
      "[1, 1, 1, 1, 1]\n",
      "▶️ Train: 597 images  (mask=534, no_mask=63)\n",
      "▶️ Val:   127 images   (mask=112,   no_mask=15)\n",
      "▶️ Test:  129 images  (mask=124,  no_mask=5)\n"
     ]
    }
   ],
   "source": [
    "import os\n",
    "import xml.etree.ElementTree as ET\n",
    "\n",
    "# 1) Adjust these if your folder names differ\n",
    "BASE_DIR = \"dataset\"\n",
    "SPLITS   = [\"train\", \"val\", \"test\"]\n",
    "\n",
    "# 2) Map exactly what your XML <name> tag contains\n",
    "CLASS_MAP = {\n",
    "    \"with_mask\":      1,\n",
    "    \"without_mask\": 0,\n",
    "    \"mask_weared_incorrect\":2\n",
    "}\n",
    "\n",
    "def xml_to_label(xml_path):\n",
    "    \"\"\"Parse one Pascal‑VOC XML and return its class as 0 or 1.\"\"\"\n",
    "    tree = ET.parse(xml_path)\n",
    "    root = tree.getroot()\n",
    "    # assume exactly one <object> per file\n",
    "    name = root.find(\"object/name\").text.lower()\n",
    "    return CLASS_MAP[name]\n",
    "\n",
    "def collect_paths_and_labels(split_name):\n",
    "    \"\"\"Returns two lists: [img_paths], [labels] for that split.\"\"\"\n",
    "    img_dir = os.path.join(BASE_DIR, split_name, \"images\")\n",
    "    ann_dir = os.path.join(BASE_DIR, split_name, \"annotations\")\n",
    "    \n",
    "    paths, labels = [], []\n",
    "    for fn in os.listdir(img_dir):\n",
    "        # only image files\n",
    "        if not fn.lower().endswith((\".png\", \".jpg\", \".jpeg\")):\n",
    "            continue\n",
    "        \n",
    "        img_path = os.path.join(img_dir, fn)\n",
    "        xml_path = os.path.join(ann_dir, fn.rsplit(\".\",1)[0] + \".xml\")\n",
    "        if not os.path.exists(xml_path):\n",
    "            # skip if no matching XML\n",
    "            continue\n",
    "        \n",
    "        # append to lists\n",
    "        paths.append(img_path)\n",
    "        labels.append(xml_to_label(xml_path))\n",
    "    \n",
    "    return paths, labels\n",
    "\n",
    "# 3) Run for each split\n",
    "train_paths, train_labels = collect_paths_and_labels(\"train\")\n",
    "val_paths,   val_labels   = collect_paths_and_labels(\"val\")\n",
    "test_paths,  test_labels  = collect_paths_and_labels(\"test\")\n",
    "\n",
    "\n",
    "\n",
    "# 4) Sanity‐check counts & balance\n",
    "print(f\"▶️ Train: {len(train_paths)} images  (mask={sum(train_labels)}, no_mask={len(train_labels)-sum(train_labels)})\")\n",
    "print(f\"▶️ Val:   {len(val_paths)} images   (mask={sum(val_labels)},   no_mask={len(val_labels)-sum(val_labels)})\")\n",
    "print(f\"▶️ Test:  {len(test_paths)} images  (mask={sum(test_labels)},  no_mask={len(test_labels)-sum(test_labels)})\")\n"
   ]
  },
  {
   "cell_type": "markdown",
   "id": "9285ac80",
   "metadata": {},
   "source": []
  }
 ],
 "metadata": {
  "kernelspec": {
   "display_name": ".venv",
   "language": "python",
   "name": "python3"
  },
  "language_info": {
   "codemirror_mode": {
    "name": "ipython",
    "version": 3
   },
   "file_extension": ".py",
   "mimetype": "text/x-python",
   "name": "python",
   "nbconvert_exporter": "python",
   "pygments_lexer": "ipython3",
   "version": "3.13.5"
  }
 },
 "nbformat": 4,
 "nbformat_minor": 5
}
